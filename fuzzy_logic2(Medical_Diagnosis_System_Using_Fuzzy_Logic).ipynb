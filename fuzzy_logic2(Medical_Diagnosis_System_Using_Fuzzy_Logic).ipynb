{
  "nbformat": 4,
  "nbformat_minor": 0,
  "metadata": {
    "colab": {
      "provenance": [],
      "authorship_tag": "ABX9TyM532GFeTpzXCxyJVNvIfkd",
      "include_colab_link": true
    },
    "kernelspec": {
      "name": "python3",
      "display_name": "Python 3"
    },
    "language_info": {
      "name": "python"
    }
  },
  "cells": [
    {
      "cell_type": "markdown",
      "metadata": {
        "id": "view-in-github",
        "colab_type": "text"
      },
      "source": [
        "<a href=\"https://colab.research.google.com/github/thaohung13/Homework-fuzzy-logic/blob/main/fuzzy_logic2(Medical_Diagnosis_System_Using_Fuzzy_Logic).ipynb\" target=\"_parent\"><img src=\"https://colab.research.google.com/assets/colab-badge.svg\" alt=\"Open In Colab\"/></a>"
      ]
    },
    {
      "cell_type": "code",
      "execution_count": 2,
      "metadata": {
        "id": "a0OpWWSZ1Z1G",
        "colab": {
          "base_uri": "https://localhost:8080/"
        },
        "outputId": "1e6056cc-28d4-4629-9ba5-ce52148da1ca"
      },
      "outputs": [
        {
          "output_type": "stream",
          "name": "stdout",
          "text": [
            "Looking in indexes: https://pypi.org/simple, https://us-python.pkg.dev/colab-wheels/public/simple/\n",
            "Collecting scikit-fuzzy\n",
            "  Downloading scikit-fuzzy-0.4.2.tar.gz (993 kB)\n",
            "\u001b[2K     \u001b[90m━━━━━━━━━━━━━━━━━━━━━━━━━━━━━━━━━━━━━━\u001b[0m \u001b[32m994.0/994.0 KB\u001b[0m \u001b[31m12.4 MB/s\u001b[0m eta \u001b[36m0:00:00\u001b[0m\n",
            "\u001b[?25h  Preparing metadata (setup.py) ... \u001b[?25l\u001b[?25hdone\n",
            "Requirement already satisfied: numpy>=1.6.0 in /usr/local/lib/python3.9/dist-packages (from scikit-fuzzy) (1.22.4)\n",
            "Requirement already satisfied: scipy>=0.9.0 in /usr/local/lib/python3.9/dist-packages (from scikit-fuzzy) (1.10.1)\n",
            "Requirement already satisfied: networkx>=1.9.0 in /usr/local/lib/python3.9/dist-packages (from scikit-fuzzy) (3.0)\n",
            "Building wheels for collected packages: scikit-fuzzy\n",
            "  Building wheel for scikit-fuzzy (setup.py) ... \u001b[?25l\u001b[?25hdone\n",
            "  Created wheel for scikit-fuzzy: filename=scikit_fuzzy-0.4.2-py3-none-any.whl size=894088 sha256=2108685a7b0a7df2d2229517bcbc3b61940b3ea047cc56abee1909d67134163d\n",
            "  Stored in directory: /root/.cache/pip/wheels/32/2c/a1/a90a7d7dd8448ec029f298a61f3490275e99b17aa348be675c\n",
            "Successfully built scikit-fuzzy\n",
            "Installing collected packages: scikit-fuzzy\n",
            "Successfully installed scikit-fuzzy-0.4.2\n"
          ]
        }
      ],
      "source": [
        "pip install scikit-fuzzy"
      ]
    },
    {
      "cell_type": "code",
      "source": [
        "\n",
        "import numpy as np\n",
        "import skfuzzy as fuzz\n",
        "import matplotlib.pyplot as plt\n",
        "from skfuzzy import control as ctrl\n",
        "Fever=ctrl.Antecedent(np.arange(0,11,1),'Fever')\n",
        "Headache=ctrl.Antecedent(np.arange(0,11,1),'Headache')\n",
        "Nausea=ctrl.Antecedent(np.arange(0,11,1),'Nausea')\n",
        "Vomiting=ctrl.Antecedent(np.arange(0,11,1),'Vomiting')\n",
        "Jaundice=ctrl.Antecedent(np.arange(0,11,1),'Jaundice')\n",
        "EnlargedLiver=ctrl.Antecedent(np.arange(0,11,1),'EnlargedLiver')\n",
        "JointPain=ctrl.Antecedent(np.arange(0,11,1),'JointPain')\n",
        "BodyWeakness=ctrl.Antecedent(np.arange(0,11,1),'BodyWeakness')\n",
        "Dizziness=ctrl.Antecedent(np.arange(0,11,1),'Dizziness')\n",
        "LossofAppetite=ctrl.Antecedent(np.arange(0,11,1),'LossofAppetite')\n",
        "MP=ctrl.Antecedent(np.arange(0,11,1),'MP')\n",
        "Conclusion=ctrl.Consequent(np.arange(0,11,1),'Conclusion')\n",
        "\n",
        "Fever['Mild']=fuzz.trimf(Fever.universe,[0,0,5])\n",
        "Fever['Moderate']=fuzz.trimf(Fever.universe,[0,5,10])\n",
        "Fever['Severe']=fuzz.trimf(Fever.universe,[5,10,10])\n",
        "Fever['VerySevere']=fuzz.trimf(Fever.universe,[5,10,10])\n",
        "\n",
        "Headache['Mild']=fuzz.trimf(Headache.universe,[0,0,5])\n",
        "Headache['Moderate']=fuzz.trimf(Headache.universe,[0,5,10])\n",
        "Headache['Severe']=fuzz.trimf(Headache.universe,[5,10,10])\n",
        "Headache['VerySevere']=fuzz.trimf(Headache.universe,[5,10,10])\n",
        "\n",
        "Nausea['Mild']=fuzz.trimf(Nausea.universe,[0,0,5])\n",
        "Nausea['Moderate']=fuzz.trimf(Nausea.universe,[0,5,10])\n",
        "Nausea['Severe']=fuzz.trimf(Nausea.universe,[5,10,10])\n",
        "Nausea['VerySevere']=fuzz.trimf(Nausea.universe,[5,10,10])\n",
        "\n",
        "Vomiting['Mild']=fuzz.trimf(Vomiting.universe,[0,0,5])\n",
        "Vomiting['Moderate']=fuzz.trimf(Vomiting.universe,[0,5,10])\n",
        "Vomiting['Severe']=fuzz.trimf(Vomiting.universe,[5,10,10])\n",
        "Vomiting['VerySevere']=fuzz.trimf(Vomiting.universe,[5,10,10])\n",
        "\n",
        "Jaundice['Mild']=fuzz.trimf(Jaundice.universe,[0,0,5])\n",
        "Jaundice['Moderate']=fuzz.trimf(Jaundice.universe,[0,5,10])\n",
        "Jaundice['Severe']=fuzz.trimf(Jaundice.universe,[5,10,10])\n",
        "Jaundice['VerySevere']=fuzz.trimf(Jaundice.universe,[5,10,10])\n",
        "\n",
        "EnlargedLiver['Mild']=fuzz.trimf(EnlargedLiver.universe,[0,0,5])\n",
        "EnlargedLiver['Moderate']=fuzz.trimf(EnlargedLiver.universe,[0,5,10])\n",
        "EnlargedLiver['Severe']=fuzz.trimf(EnlargedLiver.universe,[5,10,10])\n",
        "EnlargedLiver['VerySevere']=fuzz.trimf(EnlargedLiver.universe,[5,10,10])\n",
        "\n",
        "JointPain['Mild']=fuzz.trimf(JointPain.universe,[0,0,5])\n",
        "JointPain['Moderate']=fuzz.trimf(JointPain.universe,[0,5,10])\n",
        "JointPain['Severe']=fuzz.trimf(JointPain.universe,[5,10,10])\n",
        "JointPain['VerySevere']=fuzz.trimf(JointPain.universe,[5,10,10])\n",
        "\n",
        "BodyWeakness['Mild']=fuzz.trimf(BodyWeakness.universe,[0,0,5])\n",
        "BodyWeakness['Moderate']=fuzz.trimf(BodyWeakness.universe,[0,5,10])\n",
        "BodyWeakness['Severe']=fuzz.trimf(BodyWeakness.universe,[5,10,10])\n",
        "BodyWeakness['VerySevere']=fuzz.trimf(BodyWeakness.universe,[5,10,10])\n",
        "\n",
        "Dizziness['Mild']=fuzz.trimf(Dizziness.universe,[0,0,5])\n",
        "Dizziness['Moderate']=fuzz.trimf(Dizziness.universe,[0,5,10])\n",
        "Dizziness['Severe']=fuzz.trimf(Dizziness.universe,[5,10,10])\n",
        "Dizziness['VerySevere']=fuzz.trimf(Dizziness.universe,[5,10,10])\n",
        "\n",
        "LossofAppetite['Mild']=fuzz.trimf(LossofAppetite.universe,[0,0,5])\n",
        "LossofAppetite['Moderate']=fuzz.trimf(LossofAppetite.universe,[0,5,10])\n",
        "LossofAppetite['Severe']=fuzz.trimf(LossofAppetite.universe,[5,10,10])\n",
        "LossofAppetite['VerySevere']=fuzz.trimf(LossofAppetite.universe,[5,10,10])\n",
        "\n",
        "MP['Mild']=fuzz.trimf(MP.universe,[0,0,5])\n",
        "MP['Moderate']=fuzz.trimf(MP.universe,[0,5,10])\n",
        "MP['Severe']=fuzz.trimf(MP.universe,[5,10,10])\n",
        "MP['VerySevere']=fuzz.trimf(MP.universe,[5,10,10])\n",
        "\n",
        "Conclusion['Mild']=fuzz.trimf(Conclusion.universe,[0,0,5])\n",
        "Conclusion['Moderate']=fuzz.trimf(Conclusion.universe,[0,5,10])\n",
        "Conclusion['Severe']=fuzz.trimf(Conclusion.universe,[5,10,10])\n",
        "Conclusion['VerySevere']=fuzz.trimf(Conclusion.universe,[5,10,10])\n",
        "\n",
        "rule1=ctrl.Rule(Fever['Mild']&Headache['Mild']&Nausea['Mild']&Vomiting['Mild']&Jaundice['Mild']&EnlargedLiver['Mild']&JointPain['Mild']&BodyWeakness['Mild']&Dizziness['Severe']&LossofAppetite['Mild']&MP['Mild'],Conclusion['Mild'])\n",
        "\n",
        "rule2=ctrl.Rule(Fever['Moderate']&Headache['Mild']&Nausea['Mild']&Vomiting['Mild']&Jaundice['Mild']&EnlargedLiver['Mild']&JointPain['Moderate']&BodyWeakness['Moderate']&Dizziness['Severe']&LossofAppetite['Severe']&MP['Moderate'],Conclusion['Moderate'])\n",
        "\n",
        "rule3=ctrl.Rule(Fever['Severe']&Headache['Moderate']&Nausea['Mild']&Vomiting['Mild']&Jaundice['Mild']&EnlargedLiver['Mild']&JointPain['Mild']&BodyWeakness['Severe']&Dizziness['Severe']&LossofAppetite['Severe']&MP['Moderate'],Conclusion['Severe'])\n",
        "\n",
        "rule4=ctrl.Rule(Fever['VerySevere']&Headache['Mild']&Nausea['Mild']&Vomiting['Mild']&Jaundice['Mild']&EnlargedLiver['Mild']&JointPain['Severe']&BodyWeakness['Severe']&Dizziness['Mild']&LossofAppetite['Mild']&MP['Severe'],Conclusion['VerySevere'])\n",
        "\n",
        "rule5=ctrl.Rule(Fever['Moderate']&Headache['Mild']&Nausea['Mild']&Vomiting['Moderate']&Jaundice['Mild']&EnlargedLiver['Mild']&JointPain['Moderate']&BodyWeakness['Moderate']&Dizziness['Moderate']&LossofAppetite['Severe']&MP['Moderate'],Conclusion['Moderate'])\n",
        "\n",
        "rule6=ctrl.Rule(Fever['Mild']&Headache['Moderate']&Nausea['Moderate']&Vomiting['Mild']&Jaundice['Mild']&EnlargedLiver['Mild']&JointPain['Mild']&BodyWeakness['Mild']&Dizziness['Moderate']&LossofAppetite['Mild']&MP['Mild'],Conclusion['Mild'])\n",
        "\n",
        "rule7=ctrl.Rule(Fever['Mild']&Headache['Mild']&Nausea['Moderate']&Vomiting['Moderate']&Jaundice['Mild']&EnlargedLiver['Mild']&JointPain['Severe']&BodyWeakness['Severe']&Dizziness['Moderate']&LossofAppetite['Moderate']&MP['Moderate'],Conclusion['Severe'])\n",
        "\n",
        "rule8=ctrl.Rule(Fever['Moderate']&Headache['Moderate']&Nausea['Moderate']&Vomiting['Moderate']&Jaundice['Moderate']&EnlargedLiver['Moderate']&JointPain['Mild']&BodyWeakness['Moderate']&Dizziness['Moderate']&LossofAppetite['Moderate']&MP['Moderate'],Conclusion['Moderate'])\n",
        "\n",
        "rule9=ctrl.Rule(Fever['Moderate']&Headache['Mild']&Nausea['Moderate']&Vomiting['Moderate']&Jaundice['Mild']&EnlargedLiver['Severe']&JointPain['Moderate']&BodyWeakness['Moderate']&Dizziness['Severe']&LossofAppetite['Moderate']&MP['Moderate'],Conclusion['Moderate'])\n",
        "\n",
        "rule10=ctrl.Rule(Fever['Mild']&Headache['Mild']&Nausea['Moderate']&Vomiting['Moderate']&Jaundice['Mild']&EnlargedLiver['Moderate']&JointPain['Mild']&BodyWeakness['Mild']&Dizziness['Mild']&LossofAppetite['Mild']&MP['Mild'],Conclusion['Mild'])\n",
        "\n",
        "rule11=ctrl.Rule(Fever['Severe']&Headache['Severe']&Nausea['Severe']&Vomiting['Severe']&Jaundice['Severe']&EnlargedLiver['Severe']&JointPain['Severe']&BodyWeakness['VerySevere']&Dizziness['Severe']&LossofAppetite['Severe']&MP['Moderate'],Conclusion['VerySevere'])\n",
        "\n",
        "rule12=ctrl.Rule(Fever['Moderate']&Headache['Severe']&Nausea['Moderate']&Vomiting['Severe']&Jaundice['Moderate']&EnlargedLiver['Severe']&JointPain['Moderate']&BodyWeakness['Severe']&Dizziness['Moderate']&LossofAppetite['Mild']&MP['Moderate'],Conclusion['Severe'])\n",
        "\n",
        "rule13=ctrl.Rule(Fever['Mild']&Headache['Moderate']&Nausea['Moderate']&Vomiting['Moderate']&Jaundice['Mild']&EnlargedLiver['Mild']&JointPain['Mild']&BodyWeakness['Moderate']&Dizziness['Mild']&LossofAppetite['Moderate']&MP['Moderate'],Conclusion['Moderate'])\n",
        "\n",
        "rule14=ctrl.Rule(Fever['Severe']&Headache['Severe']&Nausea['Moderate']&Vomiting['Severe']&Jaundice['Severe']&EnlargedLiver['Severe']&JointPain['Severe']&BodyWeakness['Severe']&Dizziness['Moderate']&LossofAppetite['Moderate']&MP['Severe'],Conclusion['Severe'])\n",
        "\n",
        "rule15=ctrl.Rule(Fever['Mild']&Headache['Mild']&Nausea['Mild']&Vomiting['Moderate']&Jaundice['Mild']&EnlargedLiver['Mild']&JointPain['Mild']&BodyWeakness['Severe']&Dizziness['Mild']&LossofAppetite['Severe']&MP['Moderate'],Conclusion['Severe'])\n",
        "\n",
        "rule16=ctrl.Rule(Fever['VerySevere']&Headache['Moderate']&Nausea['Mild']&Vomiting['Moderate']&Jaundice['Severe']&EnlargedLiver['Moderate']&JointPain['Mild']&BodyWeakness['VerySevere']&Dizziness['Severe']&LossofAppetite['Mild']&MP['Moderate'],Conclusion['VerySevere'])\n",
        "\n",
        "rule17=ctrl.Rule(Fever['Mild']&Headache['VerySevere']&Nausea['Moderate']&Vomiting['Moderate']&Jaundice['Mild']&EnlargedLiver['Moderate']&JointPain['Mild']&BodyWeakness['Moderate']&Dizziness['VerySevere']&LossofAppetite['Mild']&MP['Moderate'],Conclusion['VerySevere'])\n",
        "\n",
        "rule18=ctrl.Rule(Fever['Moderate']&Headache['VerySevere']&Nausea['VerySevere']&Vomiting['Mild']&Jaundice['Severe']&EnlargedLiver['Severe']&JointPain['Moderate']&BodyWeakness['Severe']&Dizziness['VerySevere']&LossofAppetite['VerySevere']&MP['Severe'],Conclusion['VerySevere'])\n",
        "\n",
        "rule19=ctrl.Rule(Fever['Moderate']&Headache['Moderate']&Nausea['Moderate']&Vomiting['Moderate']&Jaundice['Mild']&EnlargedLiver['Mild']&JointPain['Moderate']&BodyWeakness['Moderate']&Dizziness['Moderate']&LossofAppetite['Moderate']&MP['Moderate'],Conclusion['Moderate'])\n",
        "\n",
        "rule20=ctrl.Rule(Fever['VerySevere']&Headache['Severe']&Nausea['Severe']&Vomiting['Severe']&Jaundice['Severe']&EnlargedLiver['Severe']&JointPain['Severe']&BodyWeakness['Severe']&Dizziness['Severe']&LossofAppetite['Severe']&MP['Moderate'],Conclusion['VerySevere'])\n",
        "\n",
        "\n",
        "\n",
        "Conclusioning_ctrl=ctrl.ControlSystem([rule1,rule2,rule3,rule4,rule5,rule6,rule7,rule8,rule9,rule10,rule11,rule12,rule13,rule14,rule15,rule16,rule17,rule18,rule19,rule20])\n",
        "Conclusioning=ctrl.ControlSystemSimulation(Conclusioning_ctrl)\n",
        "Conclusioning.input['Fever']=5\n",
        "Conclusioning.input['Headache']=1\n",
        "Conclusioning.input['Nausea']=5\n",
        "Conclusioning.input['Vomiting']=1\n",
        "Conclusioning.input['Jaundice']=2\n",
        "Conclusioning.input['EnlargedLiver']=3\n",
        "Conclusioning.input['JointPain']=2\n",
        "Conclusioning.input['Dizziness']=1\n",
        "Conclusioning.input['LossofAppetite']=5\n",
        "Conclusioning.input['MP']=2\n",
        "Conclusioning.input['BodyWeakness']=1\n",
        "Conclusioning.compute()\n",
        "print(Conclusioning.output['Conclusion'])\n",
        "Conclusion.view(sim=Conclusioning)\n"
      ],
      "metadata": {
        "colab": {
          "base_uri": "https://localhost:8080/",
          "height": 298
        },
        "id": "MEEp6f-Uyoq5",
        "outputId": "793a3ad3-fd31-42d4-fd85-af04d89348bd"
      },
      "execution_count": 26,
      "outputs": [
        {
          "output_type": "stream",
          "name": "stdout",
          "text": [
            "5.000000000000001\n"
          ]
        },
        {
          "output_type": "display_data",
          "data": {
            "text/plain": [
              "<Figure size 432x288 with 1 Axes>"
            ],
            "image/png": "[encoded data removed]"
          },
          "metadata": {
            "needs_background": "light"
          }
        }
      ]
    }
  ]
}